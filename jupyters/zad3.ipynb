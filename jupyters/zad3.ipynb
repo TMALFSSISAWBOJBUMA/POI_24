{
 "cells": [
  {
   "cell_type": "code",
   "execution_count": 2,
   "metadata": {},
   "outputs": [],
   "source": [
    "import importlib, tools\n",
    "importlib.reload(tools)\n",
    "from tools import path_from_root, relative_paths_in_dir\n",
    "\n",
    "# %matplotlib qt\n",
    "%matplotlib inline"
   ]
  },
  {
   "cell_type": "code",
   "execution_count": 11,
   "metadata": {},
   "outputs": [
    {
     "name": "stdout",
     "output_type": "stream",
     "text": [
      "1409 samples created from bricks textures\n",
      "183 samples created from leather textures\n",
      "540 samples created from mosaic textures\n",
      "450 samples created from wood textures\n"
     ]
    }
   ],
   "source": [
    "from typing import Generator\n",
    "from PIL import Image\n",
    "import os\n",
    "import shutil\n",
    "from itertools import product\n",
    "\n",
    "\n",
    "def extract_samples_from_file(\n",
    "    file: str, sample_size: int | tuple[int]\n",
    ") -> Generator[Image.Image, None, None]:\n",
    "    sample_X, sample_Y = (\n",
    "        (sample_size, sample_size) if isinstance(sample_size, int) else sample_size\n",
    "    )\n",
    "    with Image.open(file) as img:\n",
    "        if img.mode == \"RGBA\":\n",
    "            img = img.convert(\"RGB\")\n",
    "        for x, y in product(\n",
    "            range(int(img.size[0] / sample_X)), range(int(img.size[1] / sample_Y))\n",
    "        ):\n",
    "            left = x * sample_X\n",
    "            top = y * sample_Y\n",
    "            yield img.crop((left, top, left + sample_X, top + sample_Y))\n",
    "\n",
    "\n",
    "def sources_of_texture(kind: str) -> Generator[str, None, list]:\n",
    "    return (\n",
    "        path_from_root(\"textures\", kind, img)\n",
    "        for img in os.listdir(path_from_root(\"textures\", kind))\n",
    "    )\n",
    "\n",
    "\n",
    "SAMPLE_SIZE = 128\n",
    "for kind, folder in relative_paths_in_dir(path_from_root(\"textures\")):\n",
    "    if not os.path.isdir(folder) or kind[0] == \".\":\n",
    "        continue\n",
    "\n",
    "    out_folder = path_from_root(\"samples\", kind)\n",
    "    if os.path.exists(out_folder):\n",
    "        shutil.rmtree(out_folder)\n",
    "    os.mkdir(out_folder)\n",
    "\n",
    "    sample_gen = (\n",
    "        sample\n",
    "        for src in sources_of_texture(kind)\n",
    "        for sample in extract_samples_from_file(src, SAMPLE_SIZE)\n",
    "    )\n",
    "    for i, sample in enumerate(sample_gen):\n",
    "        sample.save(path_from_root(out_folder, f\"{i}.jpg\"))\n",
    "    print(f\"{i+1} samples created from {kind} textures\")"
   ]
  },
  {
   "cell_type": "code",
   "execution_count": 5,
   "metadata": {},
   "outputs": [],
   "source": [
    "from skimage.feature import graycomatrix, graycoprops\n",
    "from skimage.io import imread\n",
    "import numpy as np\n",
    "import csv\n",
    "import itertools\n",
    "\n",
    "# from skimage.color import rgb2gray\n",
    "# from skimage.exposure import rescale_intensity\n",
    "\n",
    "PROPS = (\"dissimilarity\", \"correlation\", \"contrast\", \"energy\", \"homogeneity\", \"ASM\")\n",
    "LEVELS = 2**6\n",
    "\n",
    "PROPS_FILE = path_from_root(\"props_vectors.csv\")\n",
    "\n",
    "with open(PROPS_FILE, \"w\", newline=\"\") as fp:\n",
    "    wrrr = csv.writer(fp)\n",
    "    wrrr.writerow((\"kind\", \"distance\", \"angle\", *PROPS))\n",
    "\n",
    "    for kind, folder in relative_paths_in_dir(path_from_root(\"samples\")):\n",
    "        for _, fpath in relative_paths_in_dir(folder):\n",
    "            img = (imread(fpath, as_gray=True) * (LEVELS - 1)).astype(np.uint8)\n",
    "            distances = (1, 3, 5)\n",
    "            angles = (0, 45, 90, 135)\n",
    "            P = graycomatrix(img, distances, np.radians(angles), levels=LEVELS)\n",
    "            arr = np.hstack([graycoprops(P, prop).reshape(-1, 1) for prop in PROPS])\n",
    "            for i, (distance, angle) in enumerate(itertools.product(distances, angles)):\n",
    "                wrrr.writerow((kind, distance, angle, *arr[i, :]))"
   ]
  },
  {
   "cell_type": "code",
   "execution_count": 98,
   "metadata": {},
   "outputs": [],
   "source": [
    "import pandas as pd\n",
    "from sklearn.model_selection import train_test_split\n",
    "from sklearn import svm\n",
    "\n",
    "df = pd.read_csv(PROPS_FILE)"
   ]
  },
  {
   "cell_type": "code",
   "execution_count": 99,
   "metadata": {},
   "outputs": [],
   "source": [
    "TEST_SIZE = 0.1\n",
    "\n",
    "train, test = train_test_split(df, test_size=TEST_SIZE)\n",
    "clf = svm.SVC()\n",
    "svc = clf.fit(train.loc[:, PROPS], train[\"kind\"])"
   ]
  },
  {
   "cell_type": "code",
   "execution_count": 100,
   "metadata": {},
   "outputs": [
    {
     "name": "stdout",
     "output_type": "stream",
     "text": [
      "Accuracy: 0.9691 with set size of 30984 samples and 0.1 test ratio\n"
     ]
    }
   ],
   "source": [
    "result = clf.predict(test.loc[:, PROPS])\n",
    "\n",
    "num_errors = (test[\"kind\"] != result).sum()\n",
    "error = num_errors / df.shape[0]\n",
    "print(\n",
    "    f\"Accuracy: {1-error:.4f} with set size of {df.shape[0]} samples and {TEST_SIZE} test ratio\"\n",
    ")"
   ]
  }
 ],
 "metadata": {
  "kernelspec": {
   "display_name": ".venv",
   "language": "python",
   "name": "python3"
  },
  "language_info": {
   "codemirror_mode": {
    "name": "ipython",
    "version": 3
   },
   "file_extension": ".py",
   "mimetype": "text/x-python",
   "name": "python",
   "nbconvert_exporter": "python",
   "pygments_lexer": "ipython3",
   "version": "3.11.6"
  }
 },
 "nbformat": 4,
 "nbformat_minor": 2
}
