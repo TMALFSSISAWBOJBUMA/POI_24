{
 "cells": [
  {
   "cell_type": "code",
   "execution_count": 2,
   "metadata": {},
   "outputs": [],
   "source": [
    "import importlib, tools\n",
    "importlib.reload(tools)\n",
    "from tools import path_from_root\n",
    "\n",
    "# %matplotlib qt\n",
    "%matplotlib inline"
   ]
  },
  {
   "cell_type": "code",
   "execution_count": 3,
   "metadata": {},
   "outputs": [
    {
     "name": "stdout",
     "output_type": "stream",
     "text": [
      "449 samples created from wood textures\n"
     ]
    }
   ],
   "source": [
    "from typing import Generator\n",
    "from PIL import Image\n",
    "import os\n",
    "import shutil\n",
    "\n",
    "\n",
    "def extract_samples_from_file(\n",
    "    file: str, sample_size: int | tuple[int]\n",
    ") -> Generator[Image.Image, None, None]:\n",
    "    if isinstance(sample_size, int):\n",
    "        sample_size = (sample_size, sample_size)\n",
    "    with Image.open(file) as img:\n",
    "        for x in range(int(img.size[0] / sample_size[0])):\n",
    "            for y in range(int(img.size[1] / sample_size[1])):\n",
    "                left = x * sample_size[0]\n",
    "                top = y * sample_size[1]\n",
    "                yield img.crop((left, top, left + sample_size[0], top + sample_size[1]))\n",
    "\n",
    "\n",
    "def sources_of_texture(kind: str) -> Generator[str, None, list]:\n",
    "    return (\n",
    "        path_from_root(\"textures\", kind, img)\n",
    "        for img in os.listdir(path_from_root(\"textures\", kind))\n",
    "    )\n",
    "\n",
    "\n",
    "SAMPLE_SIZE = 128\n",
    "for kind in os.listdir(path_from_root(\"textures\")):\n",
    "    if not os.path.isdir(path_from_root(\"textures\", kind)) or kind[0] == \".\":\n",
    "        continue\n",
    "\n",
    "    out_folder = path_from_root(\"samples\", kind)\n",
    "    if os.path.exists(out_folder):\n",
    "        shutil.rmtree(out_folder)\n",
    "    os.mkdir(out_folder)\n",
    "\n",
    "    sample_gen = (\n",
    "        sample\n",
    "        for src in sources_of_texture(kind)\n",
    "        for sample in extract_samples_from_file(src, SAMPLE_SIZE)\n",
    "    )\n",
    "    for i, sample in enumerate(sample_gen):\n",
    "        sample.save(path_from_root(\"samples\", kind, f\"{i}.jpg\"))\n",
    "    print(f\"{i} samples created from {kind} textures\")"
   ]
  }
 ],
 "metadata": {
  "kernelspec": {
   "display_name": ".venv",
   "language": "python",
   "name": "python3"
  },
  "language_info": {
   "codemirror_mode": {
    "name": "ipython",
    "version": 3
   },
   "file_extension": ".py",
   "mimetype": "text/x-python",
   "name": "python",
   "nbconvert_exporter": "python",
   "pygments_lexer": "ipython3",
   "version": "3.11.6"
  }
 },
 "nbformat": 4,
 "nbformat_minor": 2
}
