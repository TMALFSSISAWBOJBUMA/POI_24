{
 "cells": [
  {
   "cell_type": "code",
   "execution_count": 21,
   "metadata": {},
   "outputs": [],
   "source": [
    "from tools import save_cloud, plot_points\n",
    "# %matplotlib qt"
   ]
  },
  {
   "cell_type": "code",
   "execution_count": 22,
   "metadata": {},
   "outputs": [],
   "source": [
    "from typing import Literal\n",
    "from scipy.stats import uniform\n",
    "\n",
    "PLANES = Literal[\"x\", \"y\", \"z\"]\n",
    "\n",
    "\n",
    "def create_plane(\n",
    "    size: float, plane: PLANES, n_points: int = 1000, spread: float = 0.05\n",
    "):\n",
    "    # create a plane perpendicular to specified axis, symmetrical around it\n",
    "    if plane == \"x\":\n",
    "        x = uniform.rvs(size=n_points, loc=-spread / 2, scale=spread)\n",
    "        y = uniform.rvs(size=n_points, loc=-size / 2, scale=size)\n",
    "        z = uniform.rvs(size=n_points, loc=-size / 2, scale=size)\n",
    "    elif plane == \"y\":\n",
    "        x = uniform.rvs(size=n_points, loc=-size / 2, scale=size)\n",
    "        y = uniform.rvs(size=n_points, loc=-spread / 2, scale=spread)\n",
    "        z = uniform.rvs(size=n_points, loc=-size / 2, scale=size)\n",
    "    else:\n",
    "        x = uniform.rvs(size=n_points, loc=-size / 2, scale=size)\n",
    "        y = uniform.rvs(size=n_points, loc=-size / 2, scale=size)\n",
    "        z = uniform.rvs(size=n_points, loc=-spread / 2, scale=spread)\n",
    "    return x, y, z"
   ]
  },
  {
   "cell_type": "code",
   "execution_count": 23,
   "metadata": {},
   "outputs": [],
   "source": [
    "planes = \"xyz\"\n",
    "\n",
    "for plane in planes:\n",
    "    x, y, z = create_plane(100, plane, 1000)\n",
    "    ax, fig = plot_points(x, y, z)\n",
    "    # ax.view_init(elev=90, azim=-90, roll=0)\n",
    "    save_cloud(f\"../clouds/{plane}_plane.xyz\", zip(x, y, z))"
   ]
  },
  {
   "cell_type": "code",
   "execution_count": 24,
   "metadata": {},
   "outputs": [],
   "source": [
    "import math\n",
    "import numpy as np\n",
    "\n",
    "\n",
    "def create_cylinder(radius, height, n_points=1000, spread=0.05):\n",
    "    # uniform points in polar coordinates\n",
    "    theta = uniform.rvs(size=n_points, loc=0, scale=2 * math.pi)  # pi*d\n",
    "    r = uniform.rvs(size=n_points, loc=radius, scale=0.05)\n",
    "\n",
    "    x = np.cos(theta) * r\n",
    "    y = np.sin(theta) * r\n",
    "    z = uniform.rvs(size=n_points, loc=-height / 2, scale=height)\n",
    "    return x, y, z"
   ]
  },
  {
   "cell_type": "code",
   "execution_count": 25,
   "metadata": {},
   "outputs": [],
   "source": [
    "radius = 20\n",
    "height = 80\n",
    "n_points = 2000\n",
    "\n",
    "x, y, z = create_cylinder(radius, height, n_points)\n",
    "\n",
    "ax, fig = plot_points(x, y, z)\n",
    "# ax.view_init(elev=85, azim=-85, roll=0)\n",
    "\n",
    "save_cloud(f\"../clouds/cylinder.xyz\", zip(x, y, z))"
   ]
  }
 ],
 "metadata": {
  "kernelspec": {
   "display_name": ".venv",
   "language": "python",
   "name": "python3"
  },
  "language_info": {
   "codemirror_mode": {
    "name": "ipython",
    "version": 3
   },
   "file_extension": ".py",
   "mimetype": "text/x-python",
   "name": "python",
   "nbconvert_exporter": "python",
   "pygments_lexer": "ipython3",
   "version": "3.11.6"
  }
 },
 "nbformat": 4,
 "nbformat_minor": 2
}
