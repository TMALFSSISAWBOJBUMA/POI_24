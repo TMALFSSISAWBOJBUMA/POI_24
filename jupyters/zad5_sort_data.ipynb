{
 "cells": [
  {
   "cell_type": "code",
   "execution_count": 31,
   "metadata": {},
   "outputs": [],
   "source": [
    "import pathlib as pl\n",
    "from PIL import Image\n",
    "from typing import Callable, Generator\n",
    "import csv\n",
    "\n",
    "\n",
    "def read_convert_dataset(\n",
    "    dataset_dir: pl.Path,\n",
    "    csv_read: Callable[[pl.Path], Generator[tuple[Image.Image, str], None, None]],\n",
    "    out_dir: pl.Path,\n",
    "):\n",
    "    \"\"\"\n",
    "    csv_read: takes csv file path and yields (file path),(class/output folder name) tuples\n",
    "    \"\"\"\n",
    "    dirs = (dir for dir in dataset_dir.iterdir() if dir.is_dir())\n",
    "    last_imgs = {dir.name: max(dir.iterdir(), key=lambda f: f.name) for dir in dirs}\n",
    "\n",
    "    for doc_file in dataset_dir.rglob(\"*.csv\"):\n",
    "\n",
    "        for img, cls in csv_read(doc_file):\n",
    "            i = last_imgs.get(cls, 0)\n",
    "            last_imgs[cls] = i + 1\n",
    "            out_path = out_dir.joinpath(cls, f\"{i}.jpg\")\n",
    "            out_path.parent.mkdir(parents=True, exist_ok=True)\n",
    "            img.save(out_path)\n",
    "\n",
    "\n",
    "def square_bbox(bbox: list[str | int]) -> list[int]:\n",
    "    if isinstance(bbox[0], str):\n",
    "        bbox = map(int, bbox)\n",
    "\n",
    "    x1, y1, x2, y2 = bbox\n",
    "    width = x2 - x1\n",
    "    height = y2 - y1\n",
    "    if width > height:\n",
    "        mid = y1 + height // 2\n",
    "        y1 = mid - width // 2\n",
    "        y2 = mid + width // 2\n",
    "    else:\n",
    "        mid = x1 + width // 2\n",
    "        x1 = mid - height // 2\n",
    "        x2 = mid + height // 2\n",
    "    return [x1, y1, x2, y2]\n",
    "\n",
    "\n",
    "def converter(\n",
    "    csv_file: pl.Path, class_mapping: dict[str, str]\n",
    ") -> Generator[tuple[Image.Image, str], None, None]:\n",
    "    with csv_file.open() as fp:\n",
    "        rdr = csv.reader(fp)\n",
    "        next(rdr)  # skip header\n",
    "        for row in rdr:\n",
    "            if len(row) < 3 or row[3] not in class_mapping.keys():\n",
    "                continue\n",
    "            with Image.open(csv_file.parent / row[0]) as img:\n",
    "                yield img.crop(square_bbox(row[4:])).resize((240, 240)), class_mapping[\n",
    "                    row[3]\n",
    "                ]"
   ]
  },
  {
   "cell_type": "markdown",
   "metadata": {},
   "source": [
    "## furny.v3i.tensorflow\n"
   ]
  },
  {
   "cell_type": "code",
   "execution_count": 33,
   "metadata": {},
   "outputs": [],
   "source": [
    "# https://universe.roboflow.com/mover/furny/dataset/3\n",
    "furny = lambda path: converter(\n",
    "\n",
    "    path, {\"Chair\": \"chair\", \"Table\": \"table\", \"Sofa\": \"sofa\", \"Lamp\": \"lamp\"}\n",
    ")\n",
    "\n",
    "\n",
    "read_convert_dataset(pl.Path(\"furny.v3i.tensorflow\"), furny, pl.Path(\"images\"))"
   ]
  },
  {
   "cell_type": "markdown",
   "metadata": {},
   "source": [
    "## Bulky.v1i.tensorflow\n"
   ]
  },
  {
   "cell_type": "code",
   "execution_count": 32,
   "metadata": {},
   "outputs": [],
   "source": [
    "# https://universe.roboflow.com/school-xysvc/bulky/dataset/1\n",
    "bulky = lambda path: converter(path, {\"chair\": \"chair\", \"i\": \"table\", \"sofa\": \"sofa\"})\n",
    "\n",
    "read_convert_dataset(pl.Path(\"Bulky.v1i.tensorflow\"), bulky, pl.Path(\"images\"))"
   ]
  }
 ],
 "metadata": {
  "kernelspec": {
   "display_name": "Python 3",
   "language": "python",
   "name": "python3"
  },
  "language_info": {
   "codemirror_mode": {
    "name": "ipython",
    "version": 3
   },
   "file_extension": ".py",
   "mimetype": "text/x-python",
   "name": "python",
   "nbconvert_exporter": "python",
   "pygments_lexer": "ipython3",
   "version": "3.11.6"
  }
 },
 "nbformat": 4,
 "nbformat_minor": 2
}
